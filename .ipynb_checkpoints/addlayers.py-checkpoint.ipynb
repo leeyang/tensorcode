{
 "cells": [
  {
   "cell_type": "code",
   "execution_count": 2,
   "metadata": {
    "collapsed": false
   },
   "outputs": [],
   "source": [
    "import tensorflow as tf\n",
    "import numpy as np\n",
    "import matplotlib\n",
    "matplotlib.use('TkAgg')# change backend to show\n",
    "import matplotlib.pyplot as plt"
   ]
  },
  {
   "cell_type": "code",
   "execution_count": 3,
   "metadata": {
    "collapsed": false
   },
   "outputs": [],
   "source": [
    "def add_layer(inputs,in_size,out_size,acti_func=None):\n",
    "    with tf.name_scope('layer'):\n",
    "        Weights=tf.Variable(tf.random_normal([in_size,out_size]))\n",
    "        biases=tf.Variable(tf.zeros([1,out_size]) + 0.1)\n",
    "        wxb=tf.matmul(inputs,Weights)\n",
    "        wxb=tf.add(wxb,biases)\n",
    "        if acti_func is None:\n",
    "            outputs=wxb\n",
    "        else:\n",
    "            outputs=acti_func(wxb)\n",
    "        return outputs    "
   ]
  },
  {
   "cell_type": "markdown",
   "metadata": {},
   "source": [
    "    上面是写添加函数"
   ]
  },
  {
   "cell_type": "code",
   "execution_count": 4,
   "metadata": {
    "collapsed": true
   },
   "outputs": [],
   "source": [
    "x_data=np.linspace(-1,1,300)[:,np.newaxis]\n",
    "y_data=np.square(x_data)-0.5\n",
    "noise=np.random.normal(0,0.05,x_data.shape)\n",
    "y_data=y_data+noise"
   ]
  },
  {
   "cell_type": "markdown",
   "metadata": {},
   "source": [
    "    上面是构建数据集"
   ]
  },
  {
   "cell_type": "code",
   "execution_count": 5,
   "metadata": {
    "collapsed": false
   },
   "outputs": [
    {
     "name": "stdout",
     "output_type": "stream",
     "text": [
      "WARNING:tensorflow:From <ipython-input-5-52797b8059e1>:8 in <module>.: initialize_all_variables (from tensorflow.python.ops.variables) is deprecated and will be removed after 2017-03-02.\n",
      "Instructions for updating:\n",
      "Use `tf.global_variables_initializer` instead.\n"
     ]
    },
    {
     "name": "stderr",
     "output_type": "stream",
     "text": [
      "C:\\Users\\Li\\Anaconda3\\lib\\site-packages\\matplotlib\\backend_bases.py:2437: MatplotlibDeprecationWarning: Using default event loop until function specific to this GUI is implemented\n",
      "  warnings.warn(str, mplDeprecation)\n"
     ]
    }
   ],
   "source": [
    "hidden_unit_num=10\n",
    "with tf.name_scope('inputs'):\n",
    "    xs=tf.placeholder(dtype=tf.float32,shape=[None,1],name='xinput')\n",
    "    ys=tf.placeholder(dtype=tf.float32,shape=[None,1],name='yinput')\n",
    "l1=add_layer(xs,1,out_size=hidden_unit_num,acti_func=tf.nn.relu)\n",
    "prediction=add_layer(l1,in_size=hidden_unit_num,out_size=1,acti_func=None)\n",
    "with tf.name_scope('loss'):\n",
    "    loss=tf.reduce_mean(tf.reduce_sum(tf.square(ys-prediction),reduction_indices=[1]))\n",
    "with tf.name_scope('train'):\n",
    "    train = tf.train.GradientDescentOptimizer(learning_rate=0.01).minimize(loss)\n",
    "writer=tf.train.SummaryWriter('logs/',sess.graph)\n",
    "init=tf.initialize_all_variables()\n",
    "sess=tf.Session()\n",
    "sess.run(init)\n",
    "fig=plt.figure()\n",
    "ax=fig.add_subplot(1,1,1)\n",
    "ax.scatter(x_data,y_data)\n",
    "plt.ion()\n",
    "plt.show()\n",
    "for i in range(1000):\n",
    "    sess.run(train, feed_dict={xs:x_data,ys:y_data})\n",
    "    if i%50 ==0:\n",
    "        #print(sess.run(loss,feed_dict={xs:x_data,ys:y_data}))\n",
    "        try:\n",
    "            ax.lines.remove(liines[0])\n",
    "        except Exception:\n",
    "            pass\n",
    "        prediction_value=sess.run(prediction,feed_dict={xs:x_data})\n",
    "        liines=ax.plot(x_data,prediction_value,'r-',lw=5)\n",
    "        plt.pause(0.1)"
   ]
  },
  {
   "cell_type": "markdown",
   "metadata": {},
   "source": [
    "    好了！nice,下面是什么呢\n",
    "    下面是可视化"
   ]
  },
  {
   "cell_type": "code",
   "execution_count": null,
   "metadata": {
    "collapsed": true
   },
   "outputs": [],
   "source": []
  }
 ],
 "metadata": {
  "anaconda-cloud": {},
  "kernelspec": {
   "display_name": "Python [conda root]",
   "language": "python",
   "name": "conda-root-py"
  },
  "language_info": {
   "codemirror_mode": {
    "name": "ipython",
    "version": 3
   },
   "file_extension": ".py",
   "mimetype": "text/x-python",
   "name": "python",
   "nbconvert_exporter": "python",
   "pygments_lexer": "ipython3",
   "version": "3.5.2"
  }
 },
 "nbformat": 4,
 "nbformat_minor": 1
}
