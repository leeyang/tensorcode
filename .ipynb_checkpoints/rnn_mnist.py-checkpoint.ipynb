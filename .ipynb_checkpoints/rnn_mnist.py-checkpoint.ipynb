{
 "cells": [
  {
   "cell_type": "code",
   "execution_count": 1,
   "metadata": {
    "collapsed": false
   },
   "outputs": [
    {
     "name": "stdout",
     "output_type": "stream",
     "text": [
      "Extracting MNIST_data\\train-images-idx3-ubyte.gz\n",
      "Extracting MNIST_data\\train-labels-idx1-ubyte.gz\n",
      "Extracting MNIST_data\\t10k-images-idx3-ubyte.gz\n",
      "Extracting MNIST_data\\t10k-labels-idx1-ubyte.gz\n"
     ]
    }
   ],
   "source": [
    "import tensorflow as tf\n",
    "import numpy as np\n",
    "import matplotlib\n",
    "matplotlib.use('TkAgg')# change backend to show\n",
    "import matplotlib.pyplot as plt\n",
    "from tensorflow.examples.tutorials.mnist import input_data\n",
    "mnist=input_data.read_data_sets('MNIST_data',one_hot=True)"
   ]
  },
  {
   "cell_type": "code",
   "execution_count": null,
   "metadata": {
    "collapsed": true
   },
   "outputs": [],
   "source": [
    "def compute_acc(vxs,vys):\n",
    "    global prediction\n",
    "    ypre=sess.run(prediction,feed_dict={x:vxs,y:vys})\n",
    "    corrpre=tf.equal(tf.arg_max(ypre,1),tf.arg_max(vys,1))\n",
    "    acc=tf.reduce_mean(tf.cast(x=corrpre,dtype=tf.float32))\n",
    "    re=sess.run(acc,feed_dict={x:vxs,y:vys})\n",
    "    return re\n",
    "def compute_loss(vxs,vys):\n",
    "    global prediction\n",
    "    ypre=sess.run(loss,feed_dict={x:vxs,y:vys})\n",
    "    #corrpre=tf.equal(tf.arg_max(ypre,1),tf.arg_max(vys,1))\n",
    "    acc=tf.reduce_mean(ypre)\n",
    "    re=sess.run(acc,feed_dict={x:vxs,y:vys})\n",
    "    return re"
   ]
  },
  {
   "cell_type": "code",
   "execution_count": 2,
   "metadata": {
    "collapsed": true
   },
   "outputs": [],
   "source": [
    "#paras\n",
    "lr=0.001\n",
    "train_iters=10000\n",
    "batch_size=126\n",
    "dis_step=50\n",
    "\n",
    "n_inputs=28\n",
    "n_steps=28\n",
    "n_hidden_units=128\n",
    "n_classes=10\n"
   ]
  },
  {
   "cell_type": "code",
   "execution_count": 4,
   "metadata": {
    "collapsed": false
   },
   "outputs": [],
   "source": [
    "x=tf.placeholder(dtype=tf.float32,shape=[None,n_steps,n_inputs])\n",
    "y=tf.placeholder(dtype=tf.float32,shape=[None,n_classes])\n",
    "\n",
    "\n",
    "weights={\n",
    "    'in':tf.Variable(tf.random_normal(shape=[n_inputs,n_hidden_units])),\n",
    "    'out':tf.Variable(tf.random_normal(shape=[n_hidden_units,n_classes]))\n",
    "}\n",
    "biases={\n",
    "    'in':tf.Variable(tf.random_normal(shape=[n_hidden_units])),\n",
    "    'out':tf.Variable(tf.random_normal(shape=[n_classes]))\n",
    "}\n",
    "# define some innner-paras"
   ]
  },
  {
   "cell_type": "code",
   "execution_count": 6,
   "metadata": {
    "collapsed": false
   },
   "outputs": [],
   "source": [
    "def myrnn(x,weights,biases):\n",
    "    #:(batch_size,n_steps,n_inputs)\n",
    "    x=tf.reshape(x,[-1,n_inputs])\n",
    "    xin=tf.matmul(x,weights['in'])+biases['in']\n",
    "    xin=tf.reshape(xin,shape=[-1,n_steps,n_hidden_units])\n",
    "    # in above\n",
    "    lstmcell=tf.nn.rnn_cell.BasicLSTMCell(num_units=n_hidden_units,forget_bias=1,\n",
    "                                          state_is_tuple=True)\n",
    "    #state si tuple yuanzu\n",
    "    _init=lstmcell.zero_state(batch_size,dtype=tf.float32)\n",
    "    out,states=tf.nn.dynamic_rnn(cell=lstmcell,inputs=xin,initial_state=_init,\n",
    "                                 time_major=False)\n",
    "    out=tf.unpack(tf.transpose(out,[1,0,2]))\n",
    "    re=tf.nn.softmax(tf.matmul(out[-1],weights['out'])+biases['out'])\n",
    "    return re\n",
    "    \n",
    "    "
   ]
  },
  {
   "cell_type": "code",
   "execution_count": null,
   "metadata": {
    "collapsed": true
   },
   "outputs": [],
   "source": [
    "prediction=myrnn(x,weights,biases)\n",
    "loss=tf.reduce_mean(-tf.reduce_sum(y*tf.log(pre)),reduction_indices=[1])\n",
    "train=tf.train.AdamOptimizer(learning_rate=lr).minimize(loss)\n"
   ]
  }
 ],
 "metadata": {
  "anaconda-cloud": {},
  "kernelspec": {
   "display_name": "Python [conda root]",
   "language": "python",
   "name": "conda-root-py"
  },
  "language_info": {
   "codemirror_mode": {
    "name": "ipython",
    "version": 3
   },
   "file_extension": ".py",
   "mimetype": "text/x-python",
   "name": "python",
   "nbconvert_exporter": "python",
   "pygments_lexer": "ipython3",
   "version": "3.5.2"
  }
 },
 "nbformat": 4,
 "nbformat_minor": 1
}
