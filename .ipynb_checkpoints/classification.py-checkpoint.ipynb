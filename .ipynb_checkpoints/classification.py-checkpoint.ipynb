{
 "cells": [
  {
   "cell_type": "code",
   "execution_count": 1,
   "metadata": {
    "collapsed": false
   },
   "outputs": [],
   "source": [
    "import tensorflow as tf\n",
    "import numpy as np\n",
    "import matplotlib\n",
    "matplotlib.use('TkAgg')# change backend to show\n",
    "import matplotlib.pyplot as plt\n",
    "from tensorflow.examples.tutorials.mnist import input_data"
   ]
  },
  {
   "cell_type": "code",
   "execution_count": 2,
   "metadata": {
    "collapsed": true
   },
   "outputs": [],
   "source": [
    "def add_layer(inputs,in_size,out_size,acti_func=None):\n",
    "    with tf.name_scope('layer'):\n",
    "        Weights=tf.Variable(tf.random_normal([in_size,out_size]))\n",
    "        biases=tf.Variable(tf.zeros([1,out_size]) + 0.1)\n",
    "        wxb=tf.matmul(inputs,Weights)\n",
    "        wxb=tf.add(wxb,biases)\n",
    "        if acti_func is None:\n",
    "            outputs=wxb\n",
    "        else:\n",
    "            outputs=acti_func(wxb)\n",
    "        return outputs "
   ]
  },
  {
   "cell_type": "code",
   "execution_count": 4,
   "metadata": {
    "collapsed": false,
    "scrolled": true
   },
   "outputs": [
    {
     "name": "stdout",
     "output_type": "stream",
     "text": [
      "Extracting MNIST_data\\train-images-idx3-ubyte.gz\n",
      "Extracting MNIST_data\\train-labels-idx1-ubyte.gz\n",
      "Extracting MNIST_data\\t10k-images-idx3-ubyte.gz\n",
      "Extracting MNIST_data\\t10k-labels-idx1-ubyte.gz\n"
     ]
    }
   ],
   "source": [
    "mnist=input_data.read_data_sets('MNIST_data',one_hot=True)"
   ]
  },
  {
   "cell_type": "code",
   "execution_count": null,
   "metadata": {
    "collapsed": true
   },
   "outputs": [],
   "source": [
    "def compute_acc(vxs,vys):\n",
    "    global prediction\n",
    "    ypre=sess.run(prediction,feed_dict={xs:vxs})\n",
    "    corrpre=tf.equal(tf.arg_max(ypre,1),tf.arg_max(vys,1))\n",
    "    acc=tf.reduce_mean(tf.cast(x=corrpre,dtype=tf.float32))\n",
    "    re=sess.run(acc,feed_dict={xs:vxs,ys:vys})\n",
    "    return re\n",
    "    "
   ]
  },
  {
   "cell_type": "code",
   "execution_count": null,
   "metadata": {
    "collapsed": true
   },
   "outputs": [],
   "source": [
    "xs=tf.placeholder(dtype=tf.float32,shape=[None,784])\n",
    "ys=tf.placeholder(dtype=tf.float32,shape=[None,10])\n",
    "prediction = add_layer(inputs=xs,in_size=784,out_size=10,acti_func=tf.nn.softmax)\n",
    "cross_entropy=tf.reduce_mean(-tf.reduce_sum(ys*tf.log(prediction),reduction_indices=[1]))\n",
    "train_step=tf.train.GradientDescentOptimizer(learning_rate=0.1).minimize(cross_entropy)\n",
    "sess = tf.Session()\n",
    "sess.run(tf.initialize_all_variables())\n",
    "for i in range(1000):\n",
    "    batch"
   ]
  }
 ],
 "metadata": {
  "kernelspec": {
   "display_name": "Python [conda root]",
   "language": "python",
   "name": "conda-root-py"
  },
  "language_info": {
   "codemirror_mode": {
    "name": "ipython",
    "version": 3
   },
   "file_extension": ".py",
   "mimetype": "text/x-python",
   "name": "python",
   "nbconvert_exporter": "python",
   "pygments_lexer": "ipython3",
   "version": "3.5.2"
  }
 },
 "nbformat": 4,
 "nbformat_minor": 1
}
