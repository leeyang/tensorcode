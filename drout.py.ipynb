{
 "cells": [
  {
   "cell_type": "code",
   "execution_count": 1,
   "metadata": {
    "collapsed": false
   },
   "outputs": [],
   "source": [
    "import tensorflow as tf\n",
    "import numpy as np\n",
    "import matplotlib\n",
    "matplotlib.use('TkAgg')# change backend to show\n",
    "import matplotlib.pyplot as plt\n",
    "from sklearn.datasets import load_digits\n",
    "from sklearn.cross_validation import train_test_split\n",
    "from sklearn.preprocessing import LabelBinarizer"
   ]
  },
  {
   "cell_type": "code",
   "execution_count": 2,
   "metadata": {
    "collapsed": false
   },
   "outputs": [],
   "source": [
    "digits=load_digits()\n",
    "X=digits.data\n",
    "y=digits.target\n",
    "y=LabelBinarizer().fit_transform(y)\n",
    "xtr,xte,ytr,yte=train_test_split(X,y)"
   ]
  },
  {
   "cell_type": "code",
   "execution_count": 3,
   "metadata": {
    "collapsed": true
   },
   "outputs": [],
   "source": [
    "def compute_acc(vxs,vys):\n",
    "    global prediction\n",
    "    ypre=sess.run(prediction,feed_dict={xs:vxs,keepratio:1})\n",
    "    corrpre=tf.equal(tf.arg_max(ypre,1),tf.arg_max(vys,1))\n",
    "    acc=tf.reduce_mean(tf.cast(x=corrpre,dtype=tf.float32))\n",
    "    re=sess.run(acc,feed_dict={xs:vxs,ys:vys,keepratio:1})\n",
    "    return re\n",
    "def compute_loss(vxs,vys):\n",
    "    global prediction\n",
    "    ypre=sess.run(cross_entropy,feed_dict={xs:vxs,ys:vys,keepratio:1})\n",
    "    #corrpre=tf.equal(tf.arg_max(ypre,1),tf.arg_max(vys,1))\n",
    "    acc=tf.reduce_mean(ypre)\n",
    "    re=sess.run(acc,feed_dict={xs:vxs,ys:vys,keepratio:1})\n",
    "    return re"
   ]
  },
  {
   "cell_type": "code",
   "execution_count": 4,
   "metadata": {
    "collapsed": true
   },
   "outputs": [],
   "source": [
    "def add_layer(inputs,in_size,out_size,acti_func=None):\n",
    "    with tf.name_scope('layer'):\n",
    "        Weights=tf.Variable(tf.random_normal([in_size,out_size]))\n",
    "        biases=tf.Variable(tf.zeros([1,out_size]) + 0.1)\n",
    "        wxb=tf.matmul(inputs,Weights)\n",
    "        wxb=tf.add(wxb,biases)\n",
    "        wxb=tf.nn.dropout(wxb,keep_prob=keepratio)\n",
    "        if acti_func is None:\n",
    "            outputs=wxb\n",
    "        else:\n",
    "            outputs=acti_func(wxb)\n",
    "        return outputs "
   ]
  },
  {
   "cell_type": "markdown",
   "metadata": {},
   "source": [
    "    在训练的时候，dropout应该赋值，在预测的时候，不应该应该为1！！！"
   ]
  },
  {
   "cell_type": "code",
   "execution_count": 5,
   "metadata": {
    "collapsed": false
   },
   "outputs": [
    {
     "name": "stdout",
     "output_type": "stream",
     "text": [
      "WARNING:tensorflow:From <ipython-input-5-a65d09702758>:9 in <module>.: initialize_all_variables (from tensorflow.python.ops.variables) is deprecated and will be removed after 2017-03-02.\n",
      "Instructions for updating:\n",
      "Use `tf.global_variables_initializer` instead.\n",
      "0.149963 0.128889\n",
      "0.879733 0.846667\n",
      "0.927988 0.911111\n",
      "0.956941 0.937778\n",
      "0.967335 0.94\n",
      "0.965108 0.935556\n",
      "0.974016 0.942222\n",
      "0.98144 0.951111\n",
      "0.982925 0.951111\n",
      "0.988864 0.953333\n"
     ]
    }
   ],
   "source": [
    "xs=tf.placeholder(dtype=tf.float32,shape=[None,64])\n",
    "ys=tf.placeholder(dtype=tf.float32,shape=[None,10])\n",
    "keepratio=tf.placeholder(dtype=tf.float32)\n",
    "l1=add_layer(inputs=xs,in_size=64,out_size=100,acti_func=tf.nn.tanh)\n",
    "prediction=add_layer(l1,in_size=100,out_size=10,acti_func=tf.nn.softmax)\n",
    "cross_entropy=tf.reduce_mean(-tf.reduce_sum(ys*tf.log(prediction),reduction_indices=[1]))\n",
    "train_step=tf.train.GradientDescentOptimizer(learning_rate=0.6).minimize(cross_entropy)\n",
    "sess = tf.Session()\n",
    "sess.run(tf.initialize_all_variables())\n",
    "for i in range(500):\n",
    "    \n",
    "    sess.run(train_step,feed_dict={xs:xtr,ys:ytr,keepratio:0.6})\n",
    "    if i%50==0:\n",
    "        print(compute_acc(xtr,ytr),compute_acc(vxs=xte,vys=yte))"
   ]
  }
 ],
 "metadata": {
  "kernelspec": {
   "display_name": "Python [conda root]",
   "language": "python",
   "name": "conda-root-py"
  },
  "language_info": {
   "codemirror_mode": {
    "name": "ipython",
    "version": 3
   },
   "file_extension": ".py",
   "mimetype": "text/x-python",
   "name": "python",
   "nbconvert_exporter": "python",
   "pygments_lexer": "ipython3",
   "version": "3.5.2"
  }
 },
 "nbformat": 4,
 "nbformat_minor": 1
}
